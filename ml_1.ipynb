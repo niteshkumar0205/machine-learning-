{
  "nbformat": 4,
  "nbformat_minor": 0,
  "metadata": {
    "colab": {
      "name": "ml_1.ipynb",
      "provenance": [],
      "collapsed_sections": [],
      "authorship_tag": "ABX9TyNUxr2o63Snluy8Jx01rqgE",
      "include_colab_link": true
    },
    "kernelspec": {
      "name": "python3",
      "display_name": "Python 3"
    },
    "language_info": {
      "name": "python"
    }
  },
  "cells": [
    {
      "cell_type": "markdown",
      "metadata": {
        "id": "view-in-github",
        "colab_type": "text"
      },
      "source": [
        "<a href=\"https://colab.research.google.com/github/niteshkumar0205/machine-learning-/blob/main/ml_1.ipynb\" target=\"_parent\"><img src=\"https://colab.research.google.com/assets/colab-badge.svg\" alt=\"Open In Colab\"/></a>"
      ]
    },
    {
      "cell_type": "markdown",
      "metadata": {
        "id": "ldcNSRZmUblL"
      },
      "source": [
        "\n",
        "#NUMPY\n",
        "\n",
        "\n"
      ]
    },
    {
      "cell_type": "code",
      "metadata": {
        "colab": {
          "base_uri": "https://localhost:8080/"
        },
        "id": "REY4SAH2Jr-P",
        "outputId": "b3286c53-699a-4771-a01e-045504d82db1"
      },
      "source": [
        "import numpy as np\n",
        "\n",
        "a = [1,2,3,4,5]\n",
        "\n",
        "arr1 = np.array(a)\n",
        "b= [[1,2,3,4],[5,6,7,8]]\n",
        "arr2 = np.array(b)\n",
        "\n",
        "print(arr1)\n",
        "print(arr2)"
      ],
      "execution_count": null,
      "outputs": [
        {
          "output_type": "stream",
          "text": [
            "[1 2 3 4 5]\n",
            "[[1 2 3 4]\n",
            " [5 6 7 8]]\n"
          ],
          "name": "stdout"
        }
      ]
    },
    {
      "cell_type": "code",
      "metadata": {
        "colab": {
          "base_uri": "https://localhost:8080/"
        },
        "id": "hnyo3b0sN1DW",
        "outputId": "c6e80030-35cd-48ea-a1b0-8cbbfcee6346"
      },
      "source": [
        "print(type(a))\n",
        "print(type(b))\n",
        "print(type(arr1))\n",
        "print(type(arr2))\n"
      ],
      "execution_count": null,
      "outputs": [
        {
          "output_type": "stream",
          "text": [
            "<class 'list'>\n",
            "<class 'list'>\n",
            "<class 'numpy.ndarray'>\n",
            "<class 'numpy.ndarray'>\n"
          ],
          "name": "stdout"
        }
      ]
    },
    {
      "cell_type": "code",
      "metadata": {
        "colab": {
          "base_uri": "https://localhost:8080/"
        },
        "id": "aKDybqbBOMMo",
        "outputId": "a7ae1421-650b-4dea-d972-eb1a576471db"
      },
      "source": [
        "import sys\n",
        "s = range(1000)\n",
        "\n",
        "print(\"size of each elements in list in bytes\",sys.getsizeof(s))\n",
        "\n",
        "print(\"complete list size in bytes\",sys.getsizeof(s)*len(s))"
      ],
      "execution_count": null,
      "outputs": [
        {
          "output_type": "stream",
          "text": [
            "size of each elements in list in bytes 48\n",
            "complete list size in bytes 48000\n"
          ],
          "name": "stdout"
        }
      ]
    },
    {
      "cell_type": "code",
      "metadata": {
        "colab": {
          "base_uri": "https://localhost:8080/"
        },
        "id": "kvA75McNPFKi",
        "outputId": "e2178c7f-6c38-41fe-96b0-96b0f9ee711b"
      },
      "source": [
        "import numpy as np\n",
        "\n",
        "s = np.arange(1000)\n",
        "\n",
        "print(\"size of each elements in the list by bytes \",s.itemsize)\n",
        "\n",
        "print(\"complete list size in bytes\",s.size * s.itemsize)"
      ],
      "execution_count": null,
      "outputs": [
        {
          "output_type": "stream",
          "text": [
            "size of each elements in the list by bytes  8\n",
            "complete list size in bytes 8000\n"
          ],
          "name": "stdout"
        }
      ]
    },
    {
      "cell_type": "code",
      "metadata": {
        "colab": {
          "base_uri": "https://localhost:8080/"
        },
        "id": "bZPAhD8kOtfy",
        "outputId": "f25ec422-4ace-4b92-8500-0a54eb39e545"
      },
      "source": [
        "import time\n",
        "\n",
        "a = range(1000)\n",
        "b=range(1000)\n",
        "\n",
        "start = time.time()\n",
        "\n",
        "ab = [(a *b) for a,b in zip(a,b)]\n",
        "\n",
        "end = time.time()\n",
        "\n",
        "print(\"total time taken\",end - start )"
      ],
      "execution_count": null,
      "outputs": [
        {
          "output_type": "stream",
          "text": [
            "total time taken 0.00020122528076171875\n"
          ],
          "name": "stdout"
        }
      ]
    },
    {
      "cell_type": "code",
      "metadata": {
        "colab": {
          "base_uri": "https://localhost:8080/"
        },
        "id": "3qqxg6mjRBgh",
        "outputId": "1b2e9739-9897-49f4-faa1-b77b2e1d4387"
      },
      "source": [
        "import numpy \n",
        "import time\n",
        "\n",
        "arr1 = np.arange(1000)\n",
        "arr2 = np.arange(1000)\n",
        "\n",
        "start = time.time()\n",
        "\n",
        "arr_mul  = arr1*arr2\n",
        "\n",
        "end = time.time()\n",
        "\n",
        "print(\" total time taken\", end- start)"
      ],
      "execution_count": null,
      "outputs": [
        {
          "output_type": "stream",
          "text": [
            " total time taken 7.987022399902344e-05\n"
          ],
          "name": "stdout"
        }
      ]
    },
    {
      "cell_type": "code",
      "metadata": {
        "colab": {
          "base_uri": "https://localhost:8080/"
        },
        "id": "TVD2odVhSUc_",
        "outputId": "d7bc045b-50d9-49d4-a318-e5679b074ac4"
      },
      "source": [
        "lst1 = [1,2,3,4]\n",
        "\n",
        "arr = np.array(lst1)\n",
        "\n",
        "print(arr)"
      ],
      "execution_count": null,
      "outputs": [
        {
          "output_type": "stream",
          "text": [
            "[1 2 3 4]\n"
          ],
          "name": "stdout"
        }
      ]
    },
    {
      "cell_type": "code",
      "metadata": {
        "colab": {
          "base_uri": "https://localhost:8080/"
        },
        "id": "3m3TlNfySeVm",
        "outputId": "986b1911-8db8-4367-ccab-22a131943a82"
      },
      "source": [
        "arr1= np.array([[1,2,3,4],[5,6,7,8]])\n",
        "\n",
        "print(arr1)"
      ],
      "execution_count": null,
      "outputs": [
        {
          "output_type": "stream",
          "text": [
            "[[1 2 3 4]\n",
            " [5 6 7 8]]\n"
          ],
          "name": "stdout"
        }
      ]
    },
    {
      "cell_type": "code",
      "metadata": {
        "colab": {
          "base_uri": "https://localhost:8080/"
        },
        "id": "muws-2OSUaYx",
        "outputId": "86390ee8-208c-43ab-9040-d562c2a73bac"
      },
      "source": [
        "arr2 = list(arr1)\n",
        "\n",
        "print(arr2)"
      ],
      "execution_count": null,
      "outputs": [
        {
          "output_type": "stream",
          "text": [
            "[array([1, 2, 3, 4]), array([5, 6, 7, 8])]\n"
          ],
          "name": "stdout"
        }
      ]
    },
    {
      "cell_type": "code",
      "metadata": {
        "colab": {
          "base_uri": "https://localhost:8080/"
        },
        "id": "84r7Sv_NWNLO",
        "outputId": "06e75c7a-29ac-4428-c994-4e47cfc0e0ae"
      },
      "source": [
        "print(type(arr1))\n",
        "print(type(arr2))"
      ],
      "execution_count": null,
      "outputs": [
        {
          "output_type": "stream",
          "text": [
            "<class 'numpy.ndarray'>\n",
            "<class 'list'>\n"
          ],
          "name": "stdout"
        }
      ]
    },
    {
      "cell_type": "code",
      "metadata": {
        "colab": {
          "base_uri": "https://localhost:8080/"
        },
        "id": "WqgtDJUoFh2F",
        "outputId": "7a4095e2-51f1-4800-8769-cdda9e86073b"
      },
      "source": [
        "# creating n-d array\n",
        "\n",
        "a = [[1,2,3],[4,5,6]]\n",
        "\n",
        "print(a)"
      ],
      "execution_count": null,
      "outputs": [
        {
          "output_type": "stream",
          "text": [
            "[[1, 2, 3], [4, 5, 6]]\n"
          ],
          "name": "stdout"
        }
      ]
    },
    {
      "cell_type": "code",
      "metadata": {
        "colab": {
          "base_uri": "https://localhost:8080/"
        },
        "id": "gzQaUmgdGNqu",
        "outputId": "b7653dc6-e94e-411e-9d4d-1e7a7855b5cb"
      },
      "source": [
        "import numpy as np\n",
        "\n",
        "np.array(a,ndmin = 10)"
      ],
      "execution_count": null,
      "outputs": [
        {
          "output_type": "execute_result",
          "data": {
            "text/plain": [
              "array([[[[[[[[[[1, 2, 3],\n",
              "               [4, 5, 6]]]]]]]]]])"
            ]
          },
          "metadata": {
            "tags": []
          },
          "execution_count": 6
        }
      ]
    },
    {
      "cell_type": "code",
      "metadata": {
        "colab": {
          "base_uri": "https://localhost:8080/"
        },
        "id": "fokIsdqvGs77",
        "outputId": "cbbd6bbf-88d0-47a1-b065-d30c2bb2f278"
      },
      "source": [
        "arr = np.array([[1,2,3],\n",
        "               [2,3,4],\n",
        "               [6,7,8]])\n",
        "print(arr)"
      ],
      "execution_count": null,
      "outputs": [
        {
          "output_type": "stream",
          "text": [
            "[[1 2 3]\n",
            " [2 3 4]\n",
            " [6 7 8]]\n"
          ],
          "name": "stdout"
        }
      ]
    },
    {
      "cell_type": "code",
      "metadata": {
        "id": "C2VLodgcGfr2"
      },
      "source": [
        ""
      ],
      "execution_count": null,
      "outputs": []
    },
    {
      "cell_type": "markdown",
      "metadata": {
        "id": "Jt0aoSWzGoJt"
      },
      "source": [
        "#PANDAS"
      ]
    },
    {
      "cell_type": "code",
      "metadata": {
        "id": "DVS5kmeUGrzq"
      },
      "source": [
        ""
      ],
      "execution_count": null,
      "outputs": []
    }
  ]
}