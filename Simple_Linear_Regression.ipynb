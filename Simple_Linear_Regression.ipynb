{
  "nbformat": 4,
  "nbformat_minor": 0,
  "metadata": {
    "colab": {
      "name": " Simple_Linear_Regression.ipynb",
      "provenance": [],
      "include_colab_link": true
    },
    "kernelspec": {
      "name": "python3",
      "display_name": "Python 3"
    },
    "language_info": {
      "name": "python"
    }
  },
  "cells": [
    {
      "cell_type": "markdown",
      "metadata": {
        "id": "view-in-github",
        "colab_type": "text"
      },
      "source": [
        "<a href=\"https://colab.research.google.com/github/niteshkumar0205/machine-learning-/blob/main/Simple_Linear_Regression.ipynb\" target=\"_parent\"><img src=\"https://colab.research.google.com/assets/colab-badge.svg\" alt=\"Open In Colab\"/></a>"
      ]
    },
    {
      "cell_type": "markdown",
      "metadata": {
        "id": "KN-ktjEBClwO"
      },
      "source": [
        "### The procedure you all need to follow to design a prediction model\n",
        "\n",
        "- Need to undedrstand the dataset\n",
        "- If the dataset is having labeled information, then it is a classification problem\n",
        "- If the dataset is having continous data or information, then it is called as regression problem\n",
        "- Before starting implementation, just import the necessary libraries\n",
        "- After importing libraries, check for the dataset location and import the dataset using pandas library\n",
        "- After importing libraries, check for the outliers. IF there are any outliers, then implement Normalization or Standardization and transform the dataset elements\n",
        "- After transforming split the dataset into training and testing sets\n",
        "- The best split of the dataset if for training (75% or 80%). For testing (25% or 20%)\n",
        "- It will be not a good procedure if the split is done like 72%, 76.5% like that. \n",
        "- After splitting, import the model which we are trying to implement from sklearn and assign training data to that model\n",
        "- After trainin the model, now check x_test with that trainied model and predict the values of y_test.\n",
        "- Original y_test will be maintained as it is and new y_test will be considered as the predicted results.\n",
        "- The difference between those two will be defining the accuracy of the prediction model.\n",
        "- After that we need to identify the accuracy and confusion matrix scores\n"
      ]
    },
    {
      "cell_type": "code",
      "metadata": {
        "id": "V7Ue1SYCBkmW"
      },
      "source": [
        "#Importing the libraries\n",
        "\n",
        "import numpy as np\n",
        "import pandas as pd\n",
        "import matplotlib.pyplot as plt\n"
      ],
      "execution_count": 1,
      "outputs": []
    },
    {
      "cell_type": "code",
      "metadata": {
        "id": "iwUBUQxuEamS"
      },
      "source": [
        "#Importing the dataset\n",
        "\n",
        "data = pd.read_csv(\"https://raw.githubusercontent.com/SairamTadepalli19/Day6_ML/main/Salary_Data.csv\")"
      ],
      "execution_count": null,
      "outputs": []
    },
    {
      "cell_type": "code",
      "metadata": {
        "id": "jp-EOJobEj0K"
      },
      "source": [
        "#Try to get head of the dataset\n",
        "\n",
        "data.head()"
      ],
      "execution_count": null,
      "outputs": []
    },
    {
      "cell_type": "code",
      "metadata": {
        "id": "AOWI_2KKEnjz"
      },
      "source": [
        "#Assign x and y variables\n",
        "\n",
        "x = data.iloc[:, :-1].values\n",
        "y = data.iloc[:, -1].values"
      ],
      "execution_count": null,
      "outputs": []
    },
    {
      "cell_type": "code",
      "metadata": {
        "id": "hGPV4nHDEv9I"
      },
      "source": [
        "x"
      ],
      "execution_count": null,
      "outputs": []
    },
    {
      "cell_type": "code",
      "metadata": {
        "id": "b2DvUdz8Ew6d"
      },
      "source": [
        "y"
      ],
      "execution_count": null,
      "outputs": []
    },
    {
      "cell_type": "code",
      "metadata": {
        "id": "eNliOGFzEyWq"
      },
      "source": [
        "#Splitting the dataset into training and testing\n",
        "\n",
        "from sklearn.model_selection import train_test_split\n",
        "\n",
        "x_train, x_test, y_train, y_test = train_test_split(x,y, test_size = 1/3, random_state = 0)"
      ],
      "execution_count": null,
      "outputs": []
    },
    {
      "cell_type": "code",
      "metadata": {
        "id": "kQt3FLcQG8Ap"
      },
      "source": [
        "#Implement simple Linear Regression\n",
        "\n",
        "from sklearn.linear_model import LinearRegression\n",
        "\n",
        "lr = LinearRegression()\n",
        "\n",
        "lr.fit(x_train, y_train)"
      ],
      "execution_count": null,
      "outputs": []
    },
    {
      "cell_type": "code",
      "metadata": {
        "id": "eU3PPY71It0x"
      },
      "source": [
        "#Predict the test set results\n",
        "\n",
        "y_pred =  lr.predict(x_test)"
      ],
      "execution_count": null,
      "outputs": []
    },
    {
      "cell_type": "code",
      "metadata": {
        "id": "asGO5TN8KXT1"
      },
      "source": [
        "y_test"
      ],
      "execution_count": null,
      "outputs": []
    },
    {
      "cell_type": "code",
      "metadata": {
        "id": "J8MRnYhUKYjE"
      },
      "source": [
        "y_pred"
      ],
      "execution_count": null,
      "outputs": []
    },
    {
      "cell_type": "code",
      "metadata": {
        "id": "hnDoTPz-KaCM"
      },
      "source": [
        "#Visualize the training set results\n",
        "\n",
        "plt.scatter(x_train, y_train, color = 'red')\n",
        "plt.plot(x_train, lr.predict(x_train), color = 'blue')\n",
        "plt.title(\"Salary Vs Experience (Training set)\")\n",
        "plt.xlabel(\"Experience\")\n",
        "plt.ylabel(\"Salary\")\n",
        "plt.show()"
      ],
      "execution_count": null,
      "outputs": []
    },
    {
      "cell_type": "code",
      "metadata": {
        "id": "wMGFqTHFK9tO"
      },
      "source": [
        "#Visualize test set results\n",
        "\n",
        "plt.scatter(x_test, y_test, color = 'red')\n",
        "plt.plot(x_train, lr.predict(x_train), color = 'blue')\n",
        "plt.title(\"Salary Vs Experience (Testing Set\")\n",
        "plt.xlabel(\"Experience\")\n",
        "plt.ylabel(\"Salary\")\n",
        "plt.show()"
      ],
      "execution_count": null,
      "outputs": []
    },
    {
      "cell_type": "code",
      "metadata": {
        "id": "7HpLAkbyLuSC"
      },
      "source": [
        "#Trying to get accuracy value\n",
        "\n",
        "from sklearn.metrics import accuracy_score\n",
        "\n",
        "accuracy_score(y_test, y_pred)"
      ],
      "execution_count": null,
      "outputs": []
    },
    {
      "cell_type": "code",
      "metadata": {
        "id": "qyqHLKukMS0X"
      },
      "source": [
        "sc = lr.score(x_test, y_test)\n",
        "print(sc * 100, '%')"
      ],
      "execution_count": null,
      "outputs": []
    },
    {
      "cell_type": "code",
      "metadata": {
        "id": "e_adx4lcMqlQ"
      },
      "source": [
        ""
      ],
      "execution_count": null,
      "outputs": []
    }
  ]
}